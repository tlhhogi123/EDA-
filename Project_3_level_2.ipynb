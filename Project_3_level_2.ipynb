{
  "metadata": {
    "kernelspec": {
      "display_name": "Python 3",
      "name": "python3"
    },
    "language_info": {
      "name": "python",
      "version": "3.10.14",
      "mimetype": "text/x-python",
      "codemirror_mode": {
        "name": "ipython",
        "version": 3
      },
      "pygments_lexer": "ipython3",
      "nbconvert_exporter": "python",
      "file_extension": ".py"
    },
    "kaggle": {
      "accelerator": "none",
      "dataSources": [],
      "dockerImageVersionId": 30786,
      "isInternetEnabled": false,
      "language": "python",
      "sourceType": "notebook",
      "isGpuEnabled": false
    },
    "colab": {
      "name": "Project 3 level 2 ",
      "provenance": [],
      "include_colab_link": true
    }
  },
  "nbformat_minor": 0,
  "nbformat": 4,
  "cells": [
    {
      "cell_type": "markdown",
      "metadata": {
        "id": "view-in-github",
        "colab_type": "text"
      },
      "source": [
        "<a href=\"https://colab.research.google.com/github/tlhhogi123/EDA-/blob/main/Project_3_level_2.ipynb\" target=\"_parent\"><img src=\"https://colab.research.google.com/assets/colab-badge.svg\" alt=\"Open In Colab\"/></a>"
      ]
    },
    {
      "cell_type": "markdown",
      "source": [
        "# **Fraud Detection Data Analysis Assessment**\n",
        "\n",
        "About Author :  \n",
        "colab on Github (tlhhogi123/tlhogi)\n",
        "\n",
        "# **Objective**\n",
        "To develop a fraud detection system capable of identifying fraudulent transactions using data analysis and machine learning techniques. The assessment will focus on key components of fraud detection, including anomaly detection, feature engineering, and predictive modeling.\n",
        "\n",
        "# **Instructions**\n",
        "# Data Preprocessing:\n",
        "\n",
        "Load the dataset.\n",
        "Explore the dataset to understand the structure, missing values, and data distributions.\n",
        "Exploratory Data Analysis (EDA):\n",
        "\n",
        "Visualize transaction distributions (e.g., amounts, types).\n",
        "Analyze patterns in fraudulent vs. legitimate transactions.\n",
        "Feature Engineering:\n",
        "\n",
        "Create features to capture transaction behavior.\n",
        "Normalize numerical features (e.g., transaction amounts).\n",
        "Encode categorical variables (e.g., transaction types).\n",
        "Anomaly Detection:\n",
        "\n",
        "Use unsupervised methods like Isolation Forest or Autoencoders to detect anomalies.\n",
        "Evaluate the performance using metrics like the confusion matrix.\n",
        "Machine Learning Modeling:\n",
        "\n",
        "Split the data into training and testing sets.\n",
        "Train a classification model using algorithms like Logistic Regression, Decision Trees, or Neural Networks.\n",
        "Evaluate the model's performance using metrics like accuracy, precision, recall, and F1 score.\n",
        "Real-Time Monitoring Simulation:\n",
        "\n",
        "Implement a pipeline to simulate streaming data.\n",
        "Detect fraudulent activities in real-time and log the outcomes.\n"
      ],
      "metadata": {
        "id": "za2-eMGR4YgU"
      }
    },
    {
      "cell_type": "markdown",
      "source": [
        "# **Assessment Questions**\n",
        "1. What patterns did you observe in fraudulent vs. legitimate transactions during EDA?\n",
        "2. How does feature scaling and encoding impact model performance?\n",
        "3.  the performance of different anomaly detection methods.\n",
        "4. Suggest strategies to improve real-time monitoring in a high-volume transaction system."
      ],
      "metadata": {
        "id": "8cJI8N9p40fm"
      }
    },
    {
      "cell_type": "code",
      "source": [
        "# Importing necesarry Libraries\n",
        "import pandas as pd\n",
        "import numpy as np\n",
        "import matplotlib.pyplot as plt\n",
        "import seaborn as sns\n",
        "from sklearn.preprocessing import StandardScaler, LabelEncoder\n",
        "from sklearn.ensemble import IsolationForest\n",
        "from sklearn.ensemble import RandomForestClassifier\n",
        "from sklearn.model_selection import train_test_split\n",
        "from sklearn.metrics import accuracy_score, precision_score, recall_score, f1_score, confusion_matrix, roc_auc_score"
      ],
      "metadata": {
        "id": "ZZnJrGVA5Bou"
      },
      "execution_count": 30,
      "outputs": []
    },
    {
      "cell_type": "code",
      "source": [
        "# Load and Explore the Data\n",
        "data = pd.read_csv('creditcard.csv.zip')\n",
        "# Replace with actual dataset\n",
        "print (data.head())\n",
        "print (data.info())\n",
        "print (data.describe())\n",
        "\n"
      ],
      "metadata": {
        "id": "AZevboIl51sP",
        "outputId": "9baf166f-c8db-48ec-a5f3-ed484c6d9002",
        "colab": {
          "base_uri": "https://localhost:8080/"
        }
      },
      "execution_count": 31,
      "outputs": [
        {
          "output_type": "stream",
          "name": "stdout",
          "text": [
            "   Time        V1        V2        V3        V4        V5        V6        V7  \\\n",
            "0   0.0 -1.359807 -0.072781  2.536347  1.378155 -0.338321  0.462388  0.239599   \n",
            "1   0.0  1.191857  0.266151  0.166480  0.448154  0.060018 -0.082361 -0.078803   \n",
            "2   1.0 -1.358354 -1.340163  1.773209  0.379780 -0.503198  1.800499  0.791461   \n",
            "3   1.0 -0.966272 -0.185226  1.792993 -0.863291 -0.010309  1.247203  0.237609   \n",
            "4   2.0 -1.158233  0.877737  1.548718  0.403034 -0.407193  0.095921  0.592941   \n",
            "\n",
            "         V8        V9  ...       V21       V22       V23       V24       V25  \\\n",
            "0  0.098698  0.363787  ... -0.018307  0.277838 -0.110474  0.066928  0.128539   \n",
            "1  0.085102 -0.255425  ... -0.225775 -0.638672  0.101288 -0.339846  0.167170   \n",
            "2  0.247676 -1.514654  ...  0.247998  0.771679  0.909412 -0.689281 -0.327642   \n",
            "3  0.377436 -1.387024  ... -0.108300  0.005274 -0.190321 -1.175575  0.647376   \n",
            "4 -0.270533  0.817739  ... -0.009431  0.798278 -0.137458  0.141267 -0.206010   \n",
            "\n",
            "        V26       V27       V28  Amount  Class  \n",
            "0 -0.189115  0.133558 -0.021053  149.62      0  \n",
            "1  0.125895 -0.008983  0.014724    2.69      0  \n",
            "2 -0.139097 -0.055353 -0.059752  378.66      0  \n",
            "3 -0.221929  0.062723  0.061458  123.50      0  \n",
            "4  0.502292  0.219422  0.215153   69.99      0  \n",
            "\n",
            "[5 rows x 31 columns]\n",
            "<class 'pandas.core.frame.DataFrame'>\n",
            "RangeIndex: 284807 entries, 0 to 284806\n",
            "Data columns (total 31 columns):\n",
            " #   Column  Non-Null Count   Dtype  \n",
            "---  ------  --------------   -----  \n",
            " 0   Time    284807 non-null  float64\n",
            " 1   V1      284807 non-null  float64\n",
            " 2   V2      284807 non-null  float64\n",
            " 3   V3      284807 non-null  float64\n",
            " 4   V4      284807 non-null  float64\n",
            " 5   V5      284807 non-null  float64\n",
            " 6   V6      284807 non-null  float64\n",
            " 7   V7      284807 non-null  float64\n",
            " 8   V8      284807 non-null  float64\n",
            " 9   V9      284807 non-null  float64\n",
            " 10  V10     284807 non-null  float64\n",
            " 11  V11     284807 non-null  float64\n",
            " 12  V12     284807 non-null  float64\n",
            " 13  V13     284807 non-null  float64\n",
            " 14  V14     284807 non-null  float64\n",
            " 15  V15     284807 non-null  float64\n",
            " 16  V16     284807 non-null  float64\n",
            " 17  V17     284807 non-null  float64\n",
            " 18  V18     284807 non-null  float64\n",
            " 19  V19     284807 non-null  float64\n",
            " 20  V20     284807 non-null  float64\n",
            " 21  V21     284807 non-null  float64\n",
            " 22  V22     284807 non-null  float64\n",
            " 23  V23     284807 non-null  float64\n",
            " 24  V24     284807 non-null  float64\n",
            " 25  V25     284807 non-null  float64\n",
            " 26  V26     284807 non-null  float64\n",
            " 27  V27     284807 non-null  float64\n",
            " 28  V28     284807 non-null  float64\n",
            " 29  Amount  284807 non-null  float64\n",
            " 30  Class   284807 non-null  int64  \n",
            "dtypes: float64(30), int64(1)\n",
            "memory usage: 67.4 MB\n",
            "None\n",
            "                Time            V1            V2            V3            V4  \\\n",
            "count  284807.000000  2.848070e+05  2.848070e+05  2.848070e+05  2.848070e+05   \n",
            "mean    94813.859575  1.168375e-15  3.416908e-16 -1.379537e-15  2.074095e-15   \n",
            "std     47488.145955  1.958696e+00  1.651309e+00  1.516255e+00  1.415869e+00   \n",
            "min         0.000000 -5.640751e+01 -7.271573e+01 -4.832559e+01 -5.683171e+00   \n",
            "25%     54201.500000 -9.203734e-01 -5.985499e-01 -8.903648e-01 -8.486401e-01   \n",
            "50%     84692.000000  1.810880e-02  6.548556e-02  1.798463e-01 -1.984653e-02   \n",
            "75%    139320.500000  1.315642e+00  8.037239e-01  1.027196e+00  7.433413e-01   \n",
            "max    172792.000000  2.454930e+00  2.205773e+01  9.382558e+00  1.687534e+01   \n",
            "\n",
            "                 V5            V6            V7            V8            V9  \\\n",
            "count  2.848070e+05  2.848070e+05  2.848070e+05  2.848070e+05  2.848070e+05   \n",
            "mean   9.604066e-16  1.487313e-15 -5.556467e-16  1.213481e-16 -2.406331e-15   \n",
            "std    1.380247e+00  1.332271e+00  1.237094e+00  1.194353e+00  1.098632e+00   \n",
            "min   -1.137433e+02 -2.616051e+01 -4.355724e+01 -7.321672e+01 -1.343407e+01   \n",
            "25%   -6.915971e-01 -7.682956e-01 -5.540759e-01 -2.086297e-01 -6.430976e-01   \n",
            "50%   -5.433583e-02 -2.741871e-01  4.010308e-02  2.235804e-02 -5.142873e-02   \n",
            "75%    6.119264e-01  3.985649e-01  5.704361e-01  3.273459e-01  5.971390e-01   \n",
            "max    3.480167e+01  7.330163e+01  1.205895e+02  2.000721e+01  1.559499e+01   \n",
            "\n",
            "       ...           V21           V22           V23           V24  \\\n",
            "count  ...  2.848070e+05  2.848070e+05  2.848070e+05  2.848070e+05   \n",
            "mean   ...  1.654067e-16 -3.568593e-16  2.578648e-16  4.473266e-15   \n",
            "std    ...  7.345240e-01  7.257016e-01  6.244603e-01  6.056471e-01   \n",
            "min    ... -3.483038e+01 -1.093314e+01 -4.480774e+01 -2.836627e+00   \n",
            "25%    ... -2.283949e-01 -5.423504e-01 -1.618463e-01 -3.545861e-01   \n",
            "50%    ... -2.945017e-02  6.781943e-03 -1.119293e-02  4.097606e-02   \n",
            "75%    ...  1.863772e-01  5.285536e-01  1.476421e-01  4.395266e-01   \n",
            "max    ...  2.720284e+01  1.050309e+01  2.252841e+01  4.584549e+00   \n",
            "\n",
            "                V25           V26           V27           V28         Amount  \\\n",
            "count  2.848070e+05  2.848070e+05  2.848070e+05  2.848070e+05  284807.000000   \n",
            "mean   5.340915e-16  1.683437e-15 -3.660091e-16 -1.227390e-16      88.349619   \n",
            "std    5.212781e-01  4.822270e-01  4.036325e-01  3.300833e-01     250.120109   \n",
            "min   -1.029540e+01 -2.604551e+00 -2.256568e+01 -1.543008e+01       0.000000   \n",
            "25%   -3.171451e-01 -3.269839e-01 -7.083953e-02 -5.295979e-02       5.600000   \n",
            "50%    1.659350e-02 -5.213911e-02  1.342146e-03  1.124383e-02      22.000000   \n",
            "75%    3.507156e-01  2.409522e-01  9.104512e-02  7.827995e-02      77.165000   \n",
            "max    7.519589e+00  3.517346e+00  3.161220e+01  3.384781e+01   25691.160000   \n",
            "\n",
            "               Class  \n",
            "count  284807.000000  \n",
            "mean        0.001727  \n",
            "std         0.041527  \n",
            "min         0.000000  \n",
            "25%         0.000000  \n",
            "50%         0.000000  \n",
            "75%         0.000000  \n",
            "max         1.000000  \n",
            "\n",
            "[8 rows x 31 columns]\n"
          ]
        }
      ]
    },
    {
      "cell_type": "markdown",
      "source": [
        "# **2. Handling Missing Values**"
      ],
      "metadata": {
        "id": "_Hq87YoC7VYr"
      }
    },
    {
      "cell_type": "code",
      "source": [
        "data = data.dropna()\n",
        "# Simple missing value handling (can be customized)"
      ],
      "metadata": {
        "id": "Jt5Bttul6XK2"
      },
      "execution_count": 32,
      "outputs": []
    },
    {
      "cell_type": "markdown",
      "source": [
        "# **3. Exploratory Data Analysis(EDA)**"
      ],
      "metadata": {
        "id": "qM0SIru97j2y"
      }
    },
    {
      "cell_type": "code",
      "source": [
        "# exploratory data analysis\n",
        "sns.countplot(x='Class', data=data)\n",
        "plt.title('Fraudulent vs Legitimate Transactions')\n",
        "plt.show()\n",
        "\n",
        "sns.histplot(data['Amount'], kde=True)\n",
        "plt.title('Transaction Amount Distribution')\n",
        "plt.show()"
      ],
      "metadata": {
        "id": "NUwqxTkEAL8t",
        "outputId": "90ede9ce-2070-4b33-d647-37fb9005f1a4",
        "colab": {
          "base_uri": "https://localhost:8080/",
          "height": 947
        }
      },
      "execution_count": 33,
      "outputs": [
        {
          "output_type": "display_data",
          "data": {
            "text/plain": [
              "<Figure size 640x480 with 1 Axes>"
            ],
            "image/png": "[encoded data removed]"
          },
          "metadata": {}
        },
        {
          "output_type": "display_data",
          "data": {
            "text/plain": [
              "<Figure size 640x480 with 1 Axes>"
            ],
            "image/png": "[encoded data removed]"
          },
          "metadata": {}
        }
      ]
    },
    {
      "cell_type": "markdown",
      "source": [
        "# **4. Feature Engineering**"
      ],
      "metadata": {
        "id": "IGQp9f-3COcY"
      }
    },
    {
      "cell_type": "code",
      "source": [
        "# Sample data\n",
        "data = {'transaction_type': ['debit', 'credit', 'debit', 'transfer', 'credit'],\n",
        "        'is_fraud': [0, 1, 0, 1, 0]}\n",
        "df = pd.DataFrame(data)\n",
        "\n",
        "# Target Encoding\n",
        "target_mean = df.groupby('transaction_type')['is_fraud'].mean()\n",
        "df['transaction_type_encoded'] = df['transaction_type'].map(target_mean)\n",
        "print(df)"
      ],
      "metadata": {
        "id": "YEtSi1G7MHiz",
        "outputId": "fc0cf127-9e72-4a9f-87a4-5f18978c7aec",
        "colab": {
          "base_uri": "https://localhost:8080/"
        }
      },
      "execution_count": 46,
      "outputs": [
        {
          "output_type": "stream",
          "name": "stdout",
          "text": [
            "  transaction_type  is_fraud  transaction_type_encoded\n",
            "0            debit         0                       0.0\n",
            "1           credit         1                       0.5\n",
            "2            debit         0                       0.0\n",
            "3         transfer         1                       1.0\n",
            "4           credit         0                       0.5\n"
          ]
        }
      ]
    },
    {
      "cell_type": "markdown",
      "source": [
        "# **5. Anomly Detection using Isolation Forest**"
      ],
      "metadata": {
        "id": "RRR9YADbM0lN"
      }
    },
    {
      "cell_type": "code",
      "source": [
        "# Load Sample Data\n",
        "# Replace with your actual dataset\n",
        "data = pd.DataFrame({\n",
        "    'transaction_amount': [50, 200, 15, 3000, 500, 20, 4500, 30, 75, 4000],\n",
        "    'transaction_type': ['debit', 'credit', 'debit', 'credit', 'debit',\n",
        "                         'transfer', 'credit', 'debit', 'credit', 'transfer'],\n",
        "    'is_fraud': [0, 0, 0, 1, 0, 0, 1, 0, 0, 1]  # True labels for evaluation\n",
        "})\n",
        "\n",
        "# Encoding transaction_type\n",
        "data['transaction_type_encoded'] = data['transaction_type'].astype('category').cat.codes"
      ],
      "metadata": {
        "id": "lR8W7RjSM-rg"
      },
      "execution_count": 47,
      "outputs": []
    },
    {
      "cell_type": "code",
      "source": [
        "# Features for Isolation Forest\n",
        "features = ['transaction_amount', 'transaction_type_encoded']"
      ],
      "metadata": {
        "id": "I5nu1z10NTSM"
      },
      "execution_count": 48,
      "outputs": []
    },
    {
      "cell_type": "code",
      "source": [
        "# Train the Isolation Forest model\n",
        "iso_forest = IsolationForest(n_estimators=100, contamination=0.2, random_state=42)\n",
        "data['anomaly_score'] = iso_forest.fit_predict(data[features])"
      ],
      "metadata": {
        "id": "VGjPHdzuNeyB"
      },
      "execution_count": 49,
      "outputs": []
    },
    {
      "cell_type": "code",
      "source": [
        "# Convert scores to anomaly labels\n",
        "data['predicted_fraud'] = data['anomaly_score'].apply(lambda x: 1 if x == -1 else 0)\n",
        "\n",
        "# Evaluate the results\n",
        "print(\"Confusion Matrix:\")\n",
        "print(confusion_matrix(data['is_fraud'], data['predicted_fraud']))\n",
        "\n",
        "\n",
        "# Visualize the Results\n",
        "plt.figure(figsize=(10, 6))\n",
        "sns.scatterplot(data=data, x='transaction_amount', y='transaction_type_encoded',\n",
        "                hue='predicted_fraud', style='is_fraud', palette='Set1')\n",
        "plt.title(\"Anomaly Detection Results\")\n",
        "plt.xlabel(\"Transaction Amount\")\n",
        "plt.ylabel(\"Transaction Type (Encoded)\")\n",
        "plt.legend(title=\"Predicted Fraud\")\n",
        "plt.show()"
      ],
      "metadata": {
        "id": "c0KnCiuYNnjh",
        "outputId": "3f10e0d5-6b66-49db-be6b-3438c90150e3",
        "colab": {
          "base_uri": "https://localhost:8080/",
          "height": 617
        }
      },
      "execution_count": 51,
      "outputs": [
        {
          "output_type": "stream",
          "name": "stdout",
          "text": [
            "Confusion Matrix:\n",
            "[[7 0]\n",
            " [1 2]]\n"
          ]
        },
        {
          "output_type": "display_data",
          "data": {
            "text/plain": [
              "<Figure size 1000x600 with 1 Axes>"
            ],
            "image/png": "[encoded data removed]"
          },
          "metadata": {}
        }
      ]
    },
    {
      "cell_type": "markdown",
      "source": [
        "# **6. Splitting the Data**"
      ],
      "metadata": {
        "id": "9OzdP3f0OQGK"
      }
    },
    {
      "cell_type": "code",
      "source": [
        "# Import necessary libraries\n",
        "import pandas as pd\n",
        "from sklearn.model_selection import train_test_split\n",
        "\n",
        "# Sample Dataset\n",
        "# Replace with your actual dataset\n",
        "data = pd.DataFrame({\n",
        "    'transaction_amount': [50, 200, 15, 3000, 500, 20, 4500, 30, 75, 4000],\n",
        "    'transaction_type_encoded': [1, 2, 1, 2, 1, 3, 2, 1, 2, 3],\n",
        "    'is_fraud': [0, 0, 0, 1, 0, 0, 1, 0, 0, 1]  # Target variable\n",
        "})\n",
        "\n",
        "# Features and Target\n",
        "X = data[['transaction_amount', 'transaction_type_encoded']]  # Features\n",
        "y = data['is_fraud']  # Target\n",
        "\n",
        "# Split Data (80% Training, 20% Testing)\n",
        "X_train, X_test, y_train, y_test = train_test_split(\n",
        "    X, y, test_size=0.2, stratify=y, random_state=42\n",
        ")\n",
        "\n",
        "# Display the splits\n",
        "print(\"Training Features:\\n\", X_train)\n",
        "print(\"\\nTraining Labels:\\n\", y_train)\n",
        "print(\"\\nTesting Features:\\n\", X_test)\n",
        "print(\"\\nTesting Labels:\\n\", y_test)"
      ],
      "metadata": {
        "id": "P0KuIqKzOU7Y",
        "outputId": "01cce9b4-2ed0-4918-cacd-b47079497a81",
        "colab": {
          "base_uri": "https://localhost:8080/"
        }
      },
      "execution_count": 52,
      "outputs": [
        {
          "output_type": "stream",
          "name": "stdout",
          "text": [
            "Training Features:\n",
            "    transaction_amount  transaction_type_encoded\n",
            "2                  15                         1\n",
            "9                4000                         3\n",
            "0                  50                         1\n",
            "5                  20                         3\n",
            "4                 500                         1\n",
            "7                  30                         1\n",
            "1                 200                         2\n",
            "6                4500                         2\n",
            "\n",
            "Training Labels:\n",
            " 2    0\n",
            "9    1\n",
            "0    0\n",
            "5    0\n",
            "4    0\n",
            "7    0\n",
            "1    0\n",
            "6    1\n",
            "Name: is_fraud, dtype: int64\n",
            "\n",
            "Testing Features:\n",
            "    transaction_amount  transaction_type_encoded\n",
            "8                  75                         2\n",
            "3                3000                         2\n",
            "\n",
            "Testing Labels:\n",
            " 8    0\n",
            "3    1\n",
            "Name: is_fraud, dtype: int64\n"
          ]
        }
      ]
    },
    {
      "cell_type": "markdown",
      "source": [
        "# 7. **Train machine learning Model**"
      ],
      "metadata": {
        "id": "s0kcE49AO_MK"
      }
    },
    {
      "cell_type": "code",
      "source": [
        "# Train machine learning model\n",
        "clf = RandomForestClassifier(random_state=42)\n",
        "clf.fit(X_train, y_train)\n",
        "\n",
        "# Make predictions\n",
        "y_pred = clf.predict(X_test)"
      ],
      "metadata": {
        "id": "QqOSVTx6PH8z"
      },
      "execution_count": 53,
      "outputs": []
    },
    {
      "cell_type": "markdown",
      "source": [
        "# **8. Evaluate the model**"
      ],
      "metadata": {
        "id": "UU7VXnWXPgNq"
      }
    },
    {
      "cell_type": "code",
      "source": [
        "# Sample Dataset\n",
        "# Replace this with your actual dataset\n",
        "data = pd.DataFrame({\n",
        "    'transaction_amount': [50, 200, 15, 3000, 500, 20, 4500, 30, 75, 4000],\n",
        "    'transaction_type_encoded': [1, 2, 1, 2, 1, 3, 2, 1, 2, 3],\n",
        "    'is_fraud': [0, 0, 0, 1, 0, 0, 1, 0, 0, 1]  # Target variable\n",
        "})\n",
        "\n",
        "# Features and Target\n",
        "X = data[['transaction_amount', 'transaction_type_encoded']]  # Features\n",
        "y = data['is_fraud']  # Target\n",
        "\n",
        "# Split Data (80% Training, 20% Testing)\n",
        "X_train, X_test, y_train, y_test = train_test_split(\n",
        "    X, y, test_size=0.2, stratify=y, random_state=42\n",
        ")\n",
        "\n",
        "# Train a Random Forest Classifier\n",
        "clf = RandomForestClassifier(random_state=42)\n",
        "clf.fit(X_train, y_train)\n",
        "\n",
        "# Make Predictions\n",
        "y_pred = clf.predict(X_test)\n",
        "y_prob = clf.predict_proba(X_test)[:, 1]  # Probabilities for ROC-AUC\n",
        "\n",
        "# Evaluation Metrics\n",
        "print(\"Accuracy:\", accuracy_score(y_test, y_pred))\n",
        "print(\"Precision:\", precision_score(y_test, y_pred))\n",
        "print(\"Recall:\", recall_score(y_test, y_pred))\n",
        "print(\"F1 Score:\", f1_score(y_test, y_pred))\n",
        "print(\"ROC-AUC Score:\", roc_auc_score(y_test, y_prob))\n",
        "\n",
        "# Confusion Matrix\n",
        "cm = confusion_matrix(y_test, y_pred)\n",
        "print(\"\\nConfusion Matrix:\\n\", cm)\n"
      ],
      "metadata": {
        "id": "GC0Uv-ojQnSm",
        "outputId": "d18918c4-a050-4c6a-f6de-3115f090d300",
        "colab": {
          "base_uri": "https://localhost:8080/"
        }
      },
      "execution_count": 59,
      "outputs": [
        {
          "output_type": "stream",
          "name": "stdout",
          "text": [
            "Accuracy: 1.0\n",
            "Precision: 1.0\n",
            "Recall: 1.0\n",
            "F1 Score: 1.0\n",
            "ROC-AUC Score: 1.0\n",
            "\n",
            "Confusion Matrix:\n",
            " [[1 0]\n",
            " [0 1]]\n"
          ]
        }
      ]
    },
    {
      "cell_type": "markdown",
      "source": [
        "## 9. Real-time monitoring Simulation"
      ],
      "metadata": {
        "id": "eoMvg-8qRAyo"
      }
    },
    {
      "cell_type": "code",
      "source": [
        "# Simulated Dataset\n",
        "data = pd.DataFrame({\n",
        "    'transaction_id': range(1, 21),  # Transaction IDs\n",
        "    'transaction_amount': [50, 200, 15, 3000, 500, 20, 4500, 30, 75, 4000,\n",
        "                           25, 180, 45, 2200, 550, 10, 6000, 35, 90, 5000],\n",
        "    'transaction_type_encoded': [1, 2, 1, 2, 1, 3, 2, 1, 2, 3,\n",
        "                                  1, 2, 1, 2, 1, 3, 2, 1, 2, 3],\n",
        "    'is_fraud': [0, 0, 0, 1, 0, 0, 1, 0, 0, 1,\n",
        "                 0, 0, 0, 1, 0, 0, 1, 0, 0, 1]  # Target variable\n",
        "})\n",
        "\n",
        "# Features and Target\n",
        "X = data[['transaction_amount', 'transaction_type_encoded']]\n",
        "y = data['is_fraud']\n",
        "\n",
        "# Train-Test Split\n",
        "X_train, X_test, y_train, y_test = train_test_split(X, y, test_size=0.2, stratify=y, random_state=42)\n",
        "\n",
        "# Train a Random Forest Classifier\n",
        "clf = RandomForestClassifier(random_state=42)\n",
        "clf.fit(X_train, y_train)\n",
        "\n",
        "# Simulate Real-Time Data Stream\n",
        "def real_time_monitoring(model, transactions):\n",
        "    print(\"\\n--- Real-Time Monitoring Started ---\\n\")\n",
        "    for _, transaction in transactions.iterrows():\n",
        "        # Extract features\n",
        "        features = transaction[['transaction_amount', 'transaction_type_encoded']].values.reshape(1, -1)\n",
        "\n",
        "        # Predict Fraud\n",
        "        is_fraud = model.predict(features)[0]\n",
        "        fraud_probability = model.predict_proba(features)[0][1]\n",
        "\n",
        "        # Display Result\n",
        "        print(f\"Transaction ID: {transaction['transaction_id']}\")\n",
        "        print(f\"Amount: {transaction['transaction_amount']}, Type: {transaction['transaction_type_encoded']}\")\n",
        "        print(f\"Fraud Probability: {fraud_probability:.2f}\")\n",
        "        if is_fraud:\n",
        "            print(\"⚠️ ALERT: Fraudulent transaction detected! ⚠️\")\n",
        "        else:\n",
        "            print(\"✔️ Transaction is legitimate.\")\n",
        "        print(\"-\" * 40)\n",
        "\n",
        "        # Simulate a delay (e.g., real-time processing)\n",
        "\n",
        "# Test Data (Simulated Stream)\n",
        "real_time_transactions = X_test.copy()\n",
        "real_time_transactions['transaction_id'] = range(len(real_time_transactions))\n",
        "\n",
        "# Run Real-Time Monitoring\n",
        "real_time_monitoring(clf, real_time_transactions)"
      ],
      "metadata": {
        "id": "Wg-Y-koLRIfU",
        "outputId": "9852e8fb-8d6a-4686-b09b-c33d2353584e",
        "colab": {
          "base_uri": "https://localhost:8080/"
        }
      },
      "execution_count": 61,
      "outputs": [
        {
          "output_type": "stream",
          "name": "stdout",
          "text": [
            "\n",
            "--- Real-Time Monitoring Started ---\n",
            "\n",
            "Transaction ID: 0\n",
            "Amount: 550, Type: 1\n",
            "Fraud Probability: 0.00\n",
            "✔️ Transaction is legitimate.\n",
            "----------------------------------------\n",
            "Transaction ID: 1\n",
            "Amount: 4000, Type: 3\n",
            "Fraud Probability: 0.96\n",
            "⚠️ ALERT: Fraudulent transaction detected! ⚠️\n",
            "----------------------------------------\n",
            "Transaction ID: 2\n",
            "Amount: 75, Type: 2\n",
            "Fraud Probability: 0.02\n",
            "✔️ Transaction is legitimate.\n",
            "----------------------------------------\n",
            "Transaction ID: 3\n",
            "Amount: 500, Type: 1\n",
            "Fraud Probability: 0.00\n",
            "✔️ Transaction is legitimate.\n",
            "----------------------------------------\n"
          ]
        },
        {
          "output_type": "stream",
          "name": "stderr",
          "text": [
            "/usr/local/lib/python3.10/dist-packages/sklearn/base.py:493: UserWarning: X does not have valid feature names, but RandomForestClassifier was fitted with feature names\n",
            "  warnings.warn(\n",
            "/usr/local/lib/python3.10/dist-packages/sklearn/base.py:493: UserWarning: X does not have valid feature names, but RandomForestClassifier was fitted with feature names\n",
            "  warnings.warn(\n",
            "/usr/local/lib/python3.10/dist-packages/sklearn/base.py:493: UserWarning: X does not have valid feature names, but RandomForestClassifier was fitted with feature names\n",
            "  warnings.warn(\n",
            "/usr/local/lib/python3.10/dist-packages/sklearn/base.py:493: UserWarning: X does not have valid feature names, but RandomForestClassifier was fitted with feature names\n",
            "  warnings.warn(\n",
            "/usr/local/lib/python3.10/dist-packages/sklearn/base.py:493: UserWarning: X does not have valid feature names, but RandomForestClassifier was fitted with feature names\n",
            "  warnings.warn(\n",
            "/usr/local/lib/python3.10/dist-packages/sklearn/base.py:493: UserWarning: X does not have valid feature names, but RandomForestClassifier was fitted with feature names\n",
            "  warnings.warn(\n",
            "/usr/local/lib/python3.10/dist-packages/sklearn/base.py:493: UserWarning: X does not have valid feature names, but RandomForestClassifier was fitted with feature names\n",
            "  warnings.warn(\n",
            "/usr/local/lib/python3.10/dist-packages/sklearn/base.py:493: UserWarning: X does not have valid feature names, but RandomForestClassifier was fitted with feature names\n",
            "  warnings.warn(\n"
          ]
        }
      ]
    },
    {
      "cell_type": "markdown",
      "source": [
        "# **Conclusion**\n",
        "\n",
        "This structured assessment allows for a practical understanding of fraud detection techniques using python."
      ],
      "metadata": {
        "id": "n0tcYE1xR4sQ"
      }
    }
  ]
}